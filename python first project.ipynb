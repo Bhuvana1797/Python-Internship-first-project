{
 "cells": [
  {
   "cell_type": "code",
   "execution_count": null,
   "id": "e625539f",
   "metadata": {},
   "outputs": [
    {
     "name": "stdout",
     "output_type": "stream",
     "text": [
      "Welcome to Guess the Number!\n",
      "Select difficulty level (easy, medium, hard): easy\n",
      "Try to guess the number (between 1 and 50). You have 15 attempts.\n",
      "Enter your guess: 5\n",
      "Your guess is too low.\n",
      "Remaining attempts: 14\n",
      "Score so far: 0\n",
      "Enter your guess: 34\n",
      "Congratulations! You guessed the number 34 correctly.\n"
     ]
    }
   ],
   "source": [
    "import random\n",
    "\n",
    "def guess_the_number():\n",
    "    print(\"Welcome to Guess the Number!\")\n",
    "    \n",
    "    # Select difficulty level\n",
    "    while True:\n",
    "        difficulty = input(\"Select difficulty level (easy, medium, hard): \").lower()\n",
    "        if difficulty == \"easy\":\n",
    "            max_number = 50\n",
    "            attempts = 15\n",
    "            break\n",
    "        elif difficulty == \"medium\":\n",
    "            max_number = 100\n",
    "            attempts = 10\n",
    "            break\n",
    "        elif difficulty == \"hard\":\n",
    "            max_number = 200\n",
    "            attempts = 5\n",
    "            break\n",
    "        else:\n",
    "            print(\"Invalid choice, please select either 'easy', 'medium', or 'hard'.\")\n",
    "            # The loop will continue until valid input is given\n",
    "\n",
    "    # Generate a random number\n",
    "    random_number = random.randint(1, max_number)\n",
    "    score = 0\n",
    "    \n",
    "    print(f\"Try to guess the number (between 1 and {max_number}). You have {attempts} attempts.\")\n",
    "\n",
    "    # Game loop\n",
    "    while attempts > 0:\n",
    "        # Get player input\n",
    "        try:\n",
    "            guess = int(input(\"Enter your guess: \"))\n",
    "        except ValueError:\n",
    "            print(\"Please enter a valid number.\")\n",
    "            continue\n",
    "\n",
    "        # Check if the guess is correct\n",
    "        if guess == random_number:\n",
    "            print(f\"Congratulations! You guessed the number {random_number} correctly.\")\n",
    "            score += attempts * 10  # Score based on remaining attempts\n",
    "            break\n",
    "        elif guess < random_number:\n",
    "            print(\"Your guess is too low.\")\n",
    "        else:\n",
    "            print(\"Your guess is too high.\")\n",
    "        \n",
    "        # Reduce attempts and display remaining attempts\n",
    "        attempts -= 1\n",
    "        print(f\"Remaining attempts: {attempts}\")\n",
    "        print(f\"Score so far: {score}\")\n",
    "\n",
    "        # End game if out of attempts\n",
    "        if attempts == 0:\n",
    "            print(f\"Sorry! You've run out of attempts. The correct number was {random_number}.\")\n",
    "            break\n",
    "\n",
    "    # Option to play again\n",
    "    play_again = input(\"Do you want to play again? (yes/no): \").lower()\n",
    "    if play_again == \"yes\":\n",
    "        guess_the_number()\n",
    "    else:\n",
    "        print(f\"Thanks for playing! Your final score was: {score}\")\n",
    "\n",
    "# Start the enhanced console-based game\n",
    "guess_the_number()"
   ]
  },
  {
   "cell_type": "code",
   "execution_count": null,
   "id": "b4918917",
   "metadata": {},
   "outputs": [],
   "source": []
  }
 ],
 "metadata": {
  "kernelspec": {
   "display_name": "Python 3 (ipykernel)",
   "language": "python",
   "name": "python3"
  },
  "language_info": {
   "codemirror_mode": {
    "name": "ipython",
    "version": 3
   },
   "file_extension": ".py",
   "mimetype": "text/x-python",
   "name": "python",
   "nbconvert_exporter": "python",
   "pygments_lexer": "ipython3",
   "version": "3.11.7"
  }
 },
 "nbformat": 4,
 "nbformat_minor": 5
}
